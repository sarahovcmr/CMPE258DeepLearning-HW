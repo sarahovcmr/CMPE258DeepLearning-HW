{
 "cells": [
  {
   "cell_type": "code",
   "execution_count": null,
   "metadata": {
    "collapsed": false,
    "pycharm": {
     "name": "#%%\n"
    }
   },
   "outputs": [],
   "source": [
    "import numpy as np\n",
    "import torch\n",
    "import torch.nn as nn\n",
    "from torch.utils.data import Dataset\n",
    "from torch.utils.data import DataLoader\n",
    "import matplotlib.pyplot as plt\n"
   ]
  },
  {
   "cell_type": "code",
   "execution_count": null,
   "metadata": {
    "collapsed": false,
    "pycharm": {
     "name": "#%%\n"
    }
   },
   "outputs": [],
   "source": [
    "def pam_gray(b):\n",
    "    if len(b)>1:\n",
    "        return (1-2*b[0])*(2**len(b[1:]) - pam_gray(b[1:]))\n",
    "    return 1-2*b[0]\n",
    "\n",
    "def qam(num_bits_per_symbol, normalize=True):\n",
    "    try:\n",
    "        assert num_bits_per_symbol % 2 == 0 # is even\n",
    "        assert num_bits_per_symbol >0 # is larger than zero\n",
    "    except AssertionError as error:\n",
    "        raise ValueError(\"num_bits_per_symbol must be a multiple of 2\") \\\n",
    "        from error\n",
    "    assert isinstance(normalize, bool), \"normalize must be boolean\"\n",
    "\n",
    "    # Build constellation by iterating through all points\n",
    "    c = np.zeros([2**num_bits_per_symbol], dtype=np.complex64)\n",
    "    for i in range(0, 2**num_bits_per_symbol):\n",
    "        b = np.array(list(np.binary_repr(i,num_bits_per_symbol)),\n",
    "                     dtype=np.int16)\n",
    "        c[i] = pam_gray(b[0::2]) + 1j*pam_gray(b[1::2]) # PAM in each dimension\n",
    "\n",
    "    if normalize: # Normalize to unit energy\n",
    "        n = int(num_bits_per_symbol/2)\n",
    "        qam_var = 1/(2**(n-2))*np.sum(np.linspace(1,2**n-1, 2**(n-1))**2)\n",
    "        c /= np.sqrt(qam_var)\n",
    "    return c\n",
    "\n",
    "def CreateConstellation(constellation_type, num_bits_per_symbol,normalize=True):\n",
    "    num_bits_per_symbol = int(num_bits_per_symbol)\n",
    "    if constellation_type==\"qam\":\n",
    "        assert num_bits_per_symbol%2 == 0 and num_bits_per_symbol>0,\\\n",
    "            \"num_bits_per_symbol must be a multiple of 2\"\n",
    "        num_bits_per_symbol = int(num_bits_per_symbol)\n",
    "        print(\"Creating QAM constellation with {} bits per symbol\".format(num_bits_per_symbol))\n",
    "        points = qam(num_bits_per_symbol, normalize=normalize)\n",
    "    return points"
   ]
  },
  {
   "cell_type": "code",
   "execution_count": null,
   "metadata": {
    "collapsed": false,
    "pycharm": {
     "name": "#%%\n"
    }
   },
   "outputs": [],
   "source": [
    "def show(points, num_bits_per_symbol, labels=True, figsize=(7,7)):\n",
    "    \"\"\"Generate a scatter-plot of the constellation.\n",
    "\n",
    "    Input\n",
    "    -----\n",
    "    labels : bool\n",
    "        If `True`, the bit labels will be drawn next to each constellation\n",
    "        point. Defaults to `True`.\n",
    "\n",
    "    figsize : Two-element Tuple, float\n",
    "        Width and height in inches. Defaults to `(7,7)`.\n",
    "\n",
    "    Output\n",
    "    ------\n",
    "    : matplotlib.figure.Figure\n",
    "        A handle to a matplot figure object.\n",
    "    \"\"\"\n",
    "    maxval = np.max(np.abs(points))*1.05\n",
    "    fig = plt.figure(figsize=figsize)\n",
    "    ax = fig.add_subplot(111)\n",
    "    plt.xlim(-maxval, maxval)\n",
    "    plt.ylim(-maxval, maxval)\n",
    "    plt.scatter(np.real(points), np.imag(points))\n",
    "    ax.set_aspect(\"equal\", adjustable=\"box\")\n",
    "    plt.xlabel(\"Real Part\")\n",
    "    plt.ylabel(\"Imaginary Part\")\n",
    "    plt.grid(True, which=\"both\", axis=\"both\")\n",
    "    plt.title(\"Constellation Plot\")\n",
    "    if labels is True:\n",
    "        for j, p in enumerate(points):\n",
    "            plt.annotate(\n",
    "                np.binary_repr(j, num_bits_per_symbol),\n",
    "                (np.real(p), np.imag(p))\n",
    "            )\n",
    "    return fig"
   ]
  },
  {
   "cell_type": "code",
   "execution_count": null,
   "metadata": {
    "collapsed": false,
    "pycharm": {
     "name": "#%%\n"
    }
   },
   "outputs": [],
   "source": [
    "NUM_BITS_PER_SYMBOL = 4 # QPSK: 2, QAM16\n",
    "points = CreateConstellation(\"qam\", NUM_BITS_PER_SYMBOL)\n",
    "points.shape"
   ]
  },
  {
   "cell_type": "code",
   "execution_count": null,
   "metadata": {
    "collapsed": false,
    "pycharm": {
     "name": "#%%\n"
    }
   },
   "outputs": [],
   "source": [
    "show(points, NUM_BITS_PER_SYMBOL)"
   ]
  },
  {
   "cell_type": "code",
   "execution_count": null,
   "metadata": {
    "collapsed": false,
    "pycharm": {
     "name": "#%%\n"
    }
   },
   "outputs": [],
   "source": [
    "def BinarySource(shape):\n",
    "    return np.random.randint(2, size=shape).astype(np.float32)"
   ]
  },
  {
   "cell_type": "code",
   "execution_count": null,
   "metadata": {
    "collapsed": false,
    "pycharm": {
     "name": "#%%\n"
    }
   },
   "outputs": [],
   "source": [
    "def complex_normal(shape, var=1.0):\n",
    "    stddev = np.sqrt(var/2)\n",
    "    xr = np.random.normal(loc=0.0, scale=stddev, size=shape)\n",
    "    xi = np.random.normal(loc=0.0, scale=stddev, size=shape)\n",
    "    x = xr + 1j*xi\n",
    "    return x"
   ]
  },
  {
   "cell_type": "code",
   "execution_count": null,
   "metadata": {
    "collapsed": false,
    "pycharm": {
     "name": "#%%\n"
    }
   },
   "outputs": [],
   "source": [
    "class Mapper:\n",
    "    def __init__(self,\n",
    "                 constellation_type=None,\n",
    "                 num_bits_per_symbol=None,\n",
    "                 constellation=None,\n",
    "                 return_indices=False,\n",
    "                 #dtype=tf.complex64,\n",
    "                 #**kwargs\n",
    "                ):\n",
    "          self.num_bits_per_symbol = num_bits_per_symbol\n",
    "          self.binary_base = 2**np.arange(num_bits_per_symbol-1, -1, -1, dtype=int) #array([2, 1], dtype=int32)\n",
    "          self.points = CreateConstellation(constellation_type, num_bits_per_symbol) #(4,)\n",
    "    \n",
    "    def create_symbol(self, inputs):\n",
    "        #inputs: (64, 1024) #batch_size, bits len\n",
    "        new_shape = [-1] + [int(inputs.shape[-1] / self.num_bits_per_symbol), self.num_bits_per_symbol] #[-1, 512, 2]\n",
    "        reinputs_reshaped = np.reshape(inputs, new_shape) #(64, 512, 2)\n",
    "        # Convert the last dimension to an integer\n",
    "        int_rep = reinputs_reshaped * self.binary_base #(64, 512, 2)\n",
    "        int_rep = np.sum(int_rep, axis=-1) #(64, 512)\n",
    "        int_rep = int_rep.astype(np.int32)\n",
    "        #print(int_rep.shape)\n",
    "        # Map integers to constellation symbols\n",
    "        #x = tf.gather(self.points, int_rep, axis=0)\n",
    "        symbs_list = [self.points[val_int] for val_int in int_rep]\n",
    "        symbols=np.array(symbs_list) #(64, 512) complex64\n",
    "        #print(symbols.dtype)\n",
    "        return symbols"
   ]
  },
  {
   "cell_type": "code",
   "execution_count": null,
   "metadata": {
    "collapsed": false,
    "pycharm": {
     "name": "#%%\n"
    }
   },
   "outputs": [],
   "source": [
    "def ebnodb2no(ebno_db, num_bits_per_symbol, coderate):\n",
    "    r\"\"\"Compute the noise variance `No` for a given `Eb/No` in dB.\n",
    "    Input\n",
    "    -----\n",
    "    ebno_db : float\n",
    "        The `Eb/No` value in dB.\n",
    "\n",
    "    num_bits_per_symbol : int\n",
    "        The number of bits per symbol.\n",
    "\n",
    "    coderate : float\n",
    "        The coderate used.\n",
    "\n",
    "    Output\n",
    "    ------\n",
    "    : float\n",
    "        The value of :math:`N_o` in linear scale.\n",
    "    \"\"\"\n",
    "    #ebno = tf.math.pow(tf.cast(10., dtype), ebno_db/10.)\n",
    "    ebno = np.power(10, ebno_db/10.0)\n",
    "    energy_per_symbol = 1\n",
    "    tmp= (ebno * coderate * float(num_bits_per_symbol)) / float(energy_per_symbol)\n",
    "    n0 = 1/tmp\n",
    "    return n0"
   ]
  },
  {
   "cell_type": "code",
   "execution_count": null,
   "metadata": {
    "collapsed": false,
    "pycharm": {
     "name": "#%%\n"
    }
   },
   "outputs": [],
   "source": [
    "# custom dataset\n",
    "class ComplexDataset(Dataset):\n",
    "    def __init__(self, num_bits_per_symbol, Frame_SIZE=64, Blocklength = 1024, DB_MIN=-10, DB_MAX=20, totaldbs=2000, constellation_type=\"qam\", data_type=np.complex64):\n",
    "        self.points = CreateConstellation(constellation_type, num_bits_per_symbol)\n",
    "        print(self.points.shape) #(4,) complex64\n",
    "        self.shape = ([Frame_SIZE, Blocklength])# Blocklength [64, 1024]\n",
    "        self.constellation_type = constellation_type\n",
    "        self.num_bits_per_symbol = num_bits_per_symbol\n",
    "        self.data_type = data_type\n",
    "        self.mapper=Mapper(constellation_type=constellation_type, num_bits_per_symbol=num_bits_per_symbol)\n",
    "\n",
    "        ebno_dbs=np.linspace(DB_MIN, DB_MAX, totaldbs)\n",
    "        np.random.shuffle(ebno_dbs)\n",
    "        self.ebno_dbs = ebno_dbs\n",
    "    \n",
    "    def __getitem__(self, index):\n",
    "        ebno_db = self.ebno_dbs[index]\n",
    "\n",
    "        bits = BinarySource(self.shape)\n",
    "        #print(\"Shape of bits: \", bits.shape) #(64, 1024)\n",
    "\n",
    "        x=self.mapper.create_symbol(bits) #(64, 512) complex64\n",
    "\n",
    "        n0=ebnodb2no(ebno_db=ebno_db, num_bits_per_symbol=self.num_bits_per_symbol, coderate=1.0) #scalar 0.05\n",
    "        noise=complex_normal(x.shape, 1.0) #(64, 512) complex128\n",
    "        #print(noise.dtype)\n",
    "        noise = noise.astype(self.data_type)\n",
    "        noise *= np.sqrt(n0) \n",
    "        y=x+noise #(64, 512)\n",
    "        signal_complex = torch.from_numpy(y)\n",
    "\n",
    "        batch={}\n",
    "        batch['samples']=signal_complex #(64, 512)\n",
    "        batch['labels']=bits #(64, 1024)\n",
    "        return batch\n",
    "    \n",
    "    def __len__(self):\n",
    "        return len(self.ebno_dbs)"
   ]
  },
  {
   "cell_type": "code",
   "execution_count": null,
   "metadata": {
    "collapsed": false,
    "pycharm": {
     "name": "#%%\n"
    }
   },
   "outputs": [],
   "source": [
    "NUM_BITS_PER_SYMBOL = 4\n",
    "BATCH_SIZE = 32\n",
    "Frame_SIZE = 64\n",
    "Blocklength = 1024\n",
    "DB_MIN = -20\n",
    "DB_MAX = 20\n",
    "dataset = ComplexDataset(num_bits_per_symbol=NUM_BITS_PER_SYMBOL, Frame_SIZE=Frame_SIZE, Blocklength=Blocklength, DB_MIN=DB_MIN, DB_MAX=DB_MAX, totaldbs=BATCH_SIZE*100)"
   ]
  },
  {
   "cell_type": "code",
   "execution_count": null,
   "metadata": {
    "collapsed": false,
    "pycharm": {
     "name": "#%%\n"
    }
   },
   "outputs": [],
   "source": [
    "onesample = dataset[0]"
   ]
  },
  {
   "cell_type": "code",
   "execution_count": null,
   "metadata": {
    "collapsed": false,
    "pycharm": {
     "name": "#%%\n"
    }
   },
   "outputs": [],
   "source": [
    "onesample.keys()"
   ]
  },
  {
   "cell_type": "code",
   "execution_count": null,
   "metadata": {
    "collapsed": false,
    "pycharm": {
     "name": "#%%\n"
    }
   },
   "outputs": [],
   "source": [
    "onesample['samples'].shape"
   ]
  },
  {
   "cell_type": "code",
   "execution_count": null,
   "metadata": {
    "collapsed": false,
    "pycharm": {
     "name": "#%%\n"
    }
   },
   "outputs": [],
   "source": [
    "onesample['labels'].shape"
   ]
  },
  {
   "cell_type": "code",
   "execution_count": null,
   "metadata": {
    "collapsed": false,
    "pycharm": {
     "name": "#%%\n"
    }
   },
   "outputs": [],
   "source": [
    "# train, validation and test split\n",
    "train_size = int(0.8 * len(dataset)) \n",
    "val_size = len(dataset) - train_size\n",
    "train_set, val_set= torch.utils.data.random_split(dataset, [train_size, val_size])\n",
    "\n",
    "# dataloaders\n",
    "train_loader = DataLoader(dataset=train_set, batch_size=BATCH_SIZE, shuffle=True, pin_memory=True)\n",
    "val_loader = DataLoader(dataset=val_set, batch_size=1, shuffle=True, pin_memory=True)\n"
   ]
  },
  {
   "cell_type": "code",
   "execution_count": null,
   "metadata": {
    "collapsed": false,
    "pycharm": {
     "name": "#%%\n"
    }
   },
   "outputs": [],
   "source": [
    "onebatch = next(iter(val_loader))"
   ]
  },
  {
   "cell_type": "code",
   "execution_count": null,
   "metadata": {
    "collapsed": false,
    "pycharm": {
     "name": "#%%\n"
    }
   },
   "outputs": [],
   "source": [
    "onebatch['samples'].shape"
   ]
  },
  {
   "cell_type": "code",
   "execution_count": null,
   "metadata": {
    "collapsed": false,
    "pycharm": {
     "name": "#%%\n"
    }
   },
   "outputs": [],
   "source": [
    "onebatch = next(iter(train_loader))"
   ]
  },
  {
   "cell_type": "code",
   "execution_count": null,
   "metadata": {
    "collapsed": false,
    "pycharm": {
     "name": "#%%\n"
    }
   },
   "outputs": [],
   "source": [
    "onebatch['samples'].shape"
   ]
  },
  {
   "cell_type": "code",
   "execution_count": null,
   "metadata": {
    "collapsed": false,
    "pycharm": {
     "name": "#%%\n"
    }
   },
   "outputs": [],
   "source": [
    "gpuid=0\n",
    "if torch.cuda.is_available():\n",
    "    device = torch.device('cuda:'+str(gpuid))  # CUDA GPU 0\n",
    "elif torch.backends.mps.is_available():\n",
    "    device = torch.device(\"mps\")\n",
    "else:\n",
    "    device = torch.device(\"cpu\")\n",
    "print(\"Using device:\", device)"
   ]
  },
  {
   "cell_type": "code",
   "execution_count": null,
   "metadata": {
    "collapsed": false,
    "pycharm": {
     "name": "#%%\n"
    }
   },
   "outputs": [],
   "source": [
    "class Simplemodel(nn.Module):\n",
    "\n",
    "    def __init__(self, num_bits_per_symbol, H=64, W=256):\n",
    "        super(Simplemodel, self).__init__()\n",
    "        scale = 8\n",
    "        self.linear1=nn.Linear(in_features=2, out_features=scale*num_bits_per_symbol)\n",
    "        self.linear2=nn.Linear(in_features=scale*num_bits_per_symbol, out_features=num_bits_per_symbol)\n",
    "        self.activation = nn.ReLU()\n",
    "    \n",
    "    def forward(self, inputs):\n",
    "        y = inputs #[32,64,256]\n",
    "        print(y.shape)\n",
    "   \n",
    "        # Stack the tensors along a new dimension (axis 0)\n",
    "        z = torch.stack([y.real, y.imag], dim=0) #[2, 32, 64, 256]\n",
    "        print(z.shape)\n",
    "        z = z.permute(1, 2, 3, 0) #[32, 64, 256, 2]\n",
    "        print(\"before linear1: \", z.shape)  # Print the shape after the convolutional layer\n",
    "\n",
    "        z = self.linear1(z) #[32,64,256,32]\n",
    "        print(\"After cnn1: \", z.shape)  # Print the shape after the convolutional layer\n",
    "\n",
    "        z = self.activation(z)#[32,64,256,32]\n",
    "        print(\"After activation: \", z.shape)\n",
    "        z = self.linear2(z) #[32,64,256,4]\n",
    "        print(\"After linear2: \", z.shape)\n",
    "        z = nn.Sigmoid()(z) #[32,64,256,32]\n",
    "        print(\"After sigmoid: \", z.shape)\n",
    "        z = z.flatten(-2, -1) #[32, 64, 1024]\n",
    "        print(\"After flatten: \", z.shape)\n",
    "        return z"
   ]
  },
  {
   "cell_type": "code",
   "execution_count": null,
   "metadata": {
    "collapsed": false,
    "pycharm": {
     "name": "#%%\n"
    }
   },
   "outputs": [],
   "source": [
    "model = Simplemodel(num_bits_per_symbol=NUM_BITS_PER_SYMBOL, H=Frame_SIZE, W=Blocklength)"
   ]
  },
  {
   "cell_type": "code",
   "execution_count": null,
   "metadata": {
    "collapsed": false,
    "pycharm": {
     "name": "#%%\n"
    }
   },
   "outputs": [],
   "source": [
    "output = model(onebatch['samples']) #[32, 64, 512] =>[32, 64, 1024]"
   ]
  },
  {
   "cell_type": "code",
   "execution_count": null,
   "metadata": {
    "collapsed": false,
    "pycharm": {
     "name": "#%%\n"
    }
   },
   "outputs": [],
   "source": [
    "class Simplemodel1(nn.Module):\n",
    "\n",
    "    def __init__(self, num_bits_per_symbol, H=64, W=256):\n",
    "        super(Simplemodel1, self).__init__()\n",
    "        self.cnn1 = nn.Conv2d(in_channels=2, out_channels=2, kernel_size=3, stride=1, padding = (3 - 1) // 2) # Add a CNN layer\n",
    "        self.linear1=nn.Linear(2*64*256, out_features=num_bits_per_symbol)\n",
    "        self.activation = nn.ReLU()\n",
    "\n",
    "    def forward(self, inputs):\n",
    "        y = inputs\n",
    "        \n",
    "        z = torch.stack([y.real, y.imag], dim=1) #[2, 32, 64, 256]\n",
    "\n",
    "        z = self.cnn1(z) # [32, 2, 64, 256]\n",
    "        print(\"After cnn1: \", z.shape)  # Print the shape after the convolutional layer\n",
    "        z = self.activation(z)\n",
    "        print(\"Before reshaping: \", z.shape)# [32, 2, 64, 256]\n",
    "\n",
    "        z = z.permute(0, 2, 3, 1) #[32, 64, 256, 2]\n",
    "        print(\"Before linear1: \", z.shape)  # Print the shape before the linear layer\n",
    "\n",
    "        z = self.linear1(z)\n",
    "        print(\"After linear1: \", z.shape)  # Print the shape before the linear layer\n",
    "\n",
    "        z = z.view(-1,32,4) #[batch_size, num_bits_per_symbol]\n",
    "        print(\"After model: \", z.shape)  # Print the shape before the linear layer\n",
    "\n",
    "        return z"
   ]
  },
  {
   "cell_type": "code",
   "execution_count": null,
   "metadata": {
    "collapsed": false,
    "pycharm": {
     "name": "#%%\n"
    }
   },
   "outputs": [],
   "source": [
    "model1 = Simplemodel1(num_bits_per_symbol=NUM_BITS_PER_SYMBOL, H=Frame_SIZE, W=Blocklength)"
   ]
  },
  {
   "cell_type": "code",
   "execution_count": null,
   "metadata": {
    "collapsed": false,
    "pycharm": {
     "name": "#%%\n"
    }
   },
   "outputs": [],
   "source": [
    "output = model1(onebatch['samples']) \n"
   ]
  },
  {
   "cell_type": "code",
   "execution_count": null,
   "metadata": {
    "collapsed": false,
    "pycharm": {
     "name": "#%%\n"
    }
   },
   "outputs": [],
   "source": [
    "output.shape"
   ]
  },
  {
   "cell_type": "code",
   "execution_count": null,
   "metadata": {
    "collapsed": false,
    "pycharm": {
     "name": "#%%\n"
    }
   },
   "outputs": [],
   "source": [
    "output.dtype"
   ]
  },
  {
   "cell_type": "code",
   "execution_count": null,
   "metadata": {
    "collapsed": false,
    "pycharm": {
     "name": "#%%\n"
    }
   },
   "outputs": [],
   "source": [
    "# Setup loss and optimizer pip install ipywidgets\n",
    "loss_fn = nn.BCELoss() #nn.BCEWithLogitsLoss()\n",
    "optimizer = torch.optim.SGD(model.parameters(), lr=0.1)"
   ]
  },
  {
   "cell_type": "code",
   "execution_count": null,
   "metadata": {
    "collapsed": false,
    "pycharm": {
     "name": "#%%\n"
    }
   },
   "outputs": [],
   "source": [
    "test=torch.tensor([0,0,0,1,1,1], dtype=torch.float)"
   ]
  },
  {
   "cell_type": "code",
   "execution_count": null,
   "metadata": {
    "collapsed": false,
    "pycharm": {
     "name": "#%%\n"
    }
   },
   "outputs": [],
   "source": [
    "loss_fn(test,test)"
   ]
  },
  {
   "cell_type": "code",
   "execution_count": null,
   "metadata": {
    "collapsed": false,
    "pycharm": {
     "name": "#%%\n"
    }
   },
   "outputs": [],
   "source": [
    "onebatch['labels'].shape"
   ]
  },
  {
   "cell_type": "code",
   "execution_count": null,
   "metadata": {
    "collapsed": false,
    "pycharm": {
     "name": "#%%\n"
    }
   },
   "outputs": [],
   "source": [
    "onebatch['labels'].dtype"
   ]
  },
  {
   "cell_type": "code",
   "execution_count": null,
   "metadata": {
    "collapsed": false,
    "pycharm": {
     "name": "#%%\n"
    }
   },
   "outputs": [],
   "source": [
    "loss_fn(output,onebatch['labels'])"
   ]
  },
  {
   "cell_type": "markdown",
   "metadata": {
    "collapsed": false,
    "pycharm": {
     "name": "#%% md\n"
    }
   },
   "source": [
    "Model2"
   ]
  },
  {
   "cell_type": "code",
   "execution_count": null,
   "metadata": {
    "collapsed": false,
    "pycharm": {
     "name": "#%%\n"
    }
   },
   "outputs": [],
   "source": [
    "class Simplemodel2(nn.Module):\n",
    "\n",
    "    def __init__(self, num_bits_per_symbol, H=64, W=256):\n",
    "        super(Simplemodel2, self).__init__()\n",
    "        self.cnn1 = nn.Conv2d(in_channels=2, out_channels=4, kernel_size=3, stride=1, padding = (3 - 1) // 2) # Add a CNN layer\n",
    "        scale = 8\n",
    "        self.linear1=nn.Linear(in_features=4, out_features=scale*num_bits_per_symbol)\n",
    "        self.linear2=nn.Linear(in_features=scale*num_bits_per_symbol, out_features=num_bits_per_symbol)        \n",
    "        self.activation = nn.ReLU()\n",
    "\n",
    "    def forward(self, inputs):\n",
    "        y = inputs\n",
    "        \n",
    "        z = torch.stack([y.real, y.imag], dim=1) #[2, 32, 64, 256]\n",
    "\n",
    "        z = self.cnn1(z) # [32, 2, 64, 256]\n",
    "        # print(\"After cnn1: \", z.shape)  # Print the shape after the convolutional layer\n",
    "        z = self.activation(z)\n",
    "        # print(\"Before reshaping: \", z.shape)# [32, 2, 64, 256]\n",
    "\n",
    "        z = z.permute(0, 2, 3, 1) #[32, 64, 256, 2]\n",
    "        # print(\"Before linear1: \", z.shape)  # Print the shape before the linear layer\n",
    "        \n",
    "        z = self.linear1(z)\n",
    "        # print(\"After linear1: \", z.shape)  # Print the shape before the linear layer\n",
    "        \n",
    "        z = self.activation(z)#[32,64,256,32]\n",
    "        # print(\"Before linear1: \", z.shape)  # Print the shape before the linear layer\n",
    "\n",
    "        z = self.linear2(z)\n",
    "        # print(\"After linear2: \", z.shape)  # Print the shape before the linear layer\n",
    "        z = nn.Sigmoid()(z) #[32,64,256,32]\n",
    "\n",
    "        # z = z.view(-1,32,4) #[batch_size, num_bits_per_symbol]\n",
    "        # print(\"After model: \", z.shape)  # Print the shape before the linear layer\n",
    "\n",
    "        return z"
   ]
  },
  {
   "cell_type": "code",
   "execution_count": null,
   "metadata": {
    "collapsed": false,
    "pycharm": {
     "name": "#%%\n"
    }
   },
   "outputs": [],
   "source": [
    "model2 = Simplemodel2(num_bits_per_symbol=NUM_BITS_PER_SYMBOL, H=Frame_SIZE, W=Blocklength)"
   ]
  },
  {
   "cell_type": "code",
   "execution_count": null,
   "metadata": {
    "collapsed": false,
    "pycharm": {
     "name": "#%%\n"
    }
   },
   "outputs": [],
   "source": [
    "output = model2(onebatch['samples']) \n"
   ]
  },
  {
   "cell_type": "code",
   "execution_count": null,
   "metadata": {
    "collapsed": false,
    "pycharm": {
     "name": "#%%\n"
    }
   },
   "outputs": [],
   "source": [
    "output.shape\n"
   ]
  },
  {
   "cell_type": "code",
   "execution_count": null,
   "metadata": {
    "collapsed": false,
    "pycharm": {
     "name": "#%%\n"
    }
   },
   "outputs": [],
   "source": [
    "# Setup loss and optimizer pip install ipywidgets\n",
    "loss_fn = nn.BCELoss() #nn.BCEWithLogitsLoss()\n",
    "optimizer = torch.optim.SGD(model.parameters(), lr=0.1)"
   ]
  },
  {
   "cell_type": "code",
   "execution_count": null,
   "metadata": {
    "collapsed": false,
    "pycharm": {
     "name": "#%%\n"
    }
   },
   "outputs": [],
   "source": [
    "test=torch.tensor([0,0,0,1,1,1], dtype=torch.float)"
   ]
  },
  {
   "cell_type": "code",
   "execution_count": null,
   "metadata": {
    "collapsed": false,
    "pycharm": {
     "name": "#%%\n"
    }
   },
   "outputs": [],
   "source": [
    "loss_fn(test,test)"
   ]
  },
  {
   "cell_type": "code",
   "execution_count": null,
   "metadata": {
    "collapsed": false,
    "pycharm": {
     "name": "#%%\n"
    }
   },
   "outputs": [],
   "source": [
    "onebatch['labels'] = onebatch['labels'].view(32, 64, 256,4)\n",
    "onebatch['labels'].shape"
   ]
  },
  {
   "cell_type": "code",
   "execution_count": null,
   "metadata": {
    "collapsed": false,
    "pycharm": {
     "name": "#%%\n"
    }
   },
   "outputs": [],
   "source": [
    "loss_fn(output,onebatch['labels'])"
   ]
  },
  {
   "cell_type": "markdown",
   "metadata": {
    "collapsed": false,
    "pycharm": {
     "name": "#%% md\n"
    }
   },
   "source": [
    "Model2 Tuning"
   ]
  },
  {
   "cell_type": "code",
   "execution_count": null,
   "metadata": {
    "collapsed": false,
    "pycharm": {
     "name": "#%%\n"
    }
   },
   "outputs": [],
   "source": [
    "class Simplemodel2_2(nn.Module):\n",
    "\n",
    "    def __init__(self, num_bits_per_symbol, H=64, W=256, out_channels=8, scale=8):\n",
    "        super(Simplemodel2_2, self).__init__()\n",
    "        self.cnn1 = nn.Conv2d(in_channels=2, out_channels=out_channels, kernel_size=3, stride=1, padding = (3 - 1) // 2) # Add a CNN layer\n",
    "        self.linear1=nn.Linear(in_features=out_channels, out_features=scale*num_bits_per_symbol)\n",
    "        self.linear2=nn.Linear(in_features=scale*num_bits_per_symbol, out_features=num_bits_per_symbol)        \n",
    "        self.activation = nn.ReLU()\n",
    "\n",
    "    def forward(self, inputs):\n",
    "        y = inputs\n",
    "        \n",
    "        z = torch.stack([y.real, y.imag], dim=1) #[2, 32, 64, 256]\n",
    "\n",
    "        z = self.cnn1(z) # [32, 2, 64, 256]\n",
    "        z = self.activation(z)\n",
    "\n",
    "        z = z.permute(0, 2, 3, 1) #[32, 64, 256, 2]\n",
    "        \n",
    "        z = self.linear1(z)\n",
    "        \n",
    "        z = self.activation(z)#[32,64,256,32]\n",
    "\n",
    "        z = self.linear2(z)\n",
    "        z = nn.Sigmoid()(z) #[32,64,256,32]\n",
    "\n",
    "\n",
    "        return z"
   ]
  },
  {
   "cell_type": "code",
   "execution_count": null,
   "metadata": {
    "collapsed": false,
    "pycharm": {
     "name": "#%%\n"
    }
   },
   "outputs": [],
   "source": [
    "model2_2 = Simplemodel2_2(num_bits_per_symbol=NUM_BITS_PER_SYMBOL, H=Frame_SIZE, W=Blocklength)\n",
    "output = model2_2(onebatch['samples']) \n",
    "loss_fn(output,onebatch['labels'])"
   ]
  },
  {
   "cell_type": "code",
   "execution_count": null,
   "metadata": {
    "collapsed": false,
    "pycharm": {
     "name": "#%%\n"
    }
   },
   "outputs": [],
   "source": [
    "for out_channels in [4, 8, 16, 32, 64, 128, 256]:\n",
    "    model = Simplemodel2_2(num_bits_per_symbol=NUM_BITS_PER_SYMBOL, H=Frame_SIZE, W=Blocklength, out_channels=out_channels)\n",
    "    output = model(onebatch['samples']) \n",
    "    loss = loss_fn(output,onebatch['labels'])\n",
    "    print(f\"out_channels: {out_channels}, loss: {loss}\")"
   ]
  },
  {
   "cell_type": "code",
   "execution_count": null,
   "metadata": {
    "collapsed": false,
    "pycharm": {
     "name": "#%%\n"
    }
   },
   "outputs": [],
   "source": [
    "for scale in [4, 8, 16, 32, 64, 128, 256]:\n",
    "    model = Simplemodel2_2(num_bits_per_symbol=NUM_BITS_PER_SYMBOL, H=Frame_SIZE, W=Blocklength, out_channels=64, scale=scale)\n",
    "    output = model(onebatch['samples']) \n",
    "    loss = loss_fn(output,onebatch['labels'])\n",
    "    print(f\"scale {scale}, loss: {loss}\")"
   ]
  },
  {
   "cell_type": "markdown",
   "metadata": {
    "collapsed": false,
    "pycharm": {
     "name": "#%% md\n"
    }
   },
   "source": [
    "Model 3"
   ]
  },
  {
   "cell_type": "code",
   "execution_count": null,
   "metadata": {
    "collapsed": false,
    "pycharm": {
     "name": "#%%\n"
    }
   },
   "outputs": [],
   "source": [
    "class Simplemodel3(nn.Module):\n",
    "\n",
    "    def __init__(self, num_bits_per_symbol, H=64, W=256):\n",
    "        super(Simplemodel3, self).__init__()\n",
    "        self.cnn1 = nn.Conv2d(in_channels=2, out_channels=8, kernel_size=3, stride=1, padding = (3 - 1) // 2) # Add a CNN layer\n",
    "        self.cnn2 = nn.Conv2d(in_channels=8, out_channels=32, kernel_size=3, stride=1, padding = (3 - 1) // 2) # Add a CNN layer\n",
    "\n",
    "        scale = 8\n",
    "        self.linear1=nn.Linear(in_features=32, out_features=scale*num_bits_per_symbol)\n",
    "        self.linear2=nn.Linear(in_features=scale*num_bits_per_symbol, out_features=num_bits_per_symbol)        \n",
    "        self.activation = nn.ReLU()\n",
    "\n",
    "    def forward(self, inputs):\n",
    "        y = inputs\n",
    "        \n",
    "        z = torch.stack([y.real, y.imag], dim=1) #[2, 32, 64, 256]\n",
    "\n",
    "        z = self.cnn1(z) # [32, 2, 64, 256]\n",
    "        z = self.activation(z)\n",
    "\n",
    "        z = self.cnn2(z) # [32, 2, 64, 256]\n",
    "        z = self.activation(z)\n",
    "        \n",
    "        z = z.permute(0, 2, 3, 1) #[32, 64, 256, 2]\n",
    "        \n",
    "        z = self.linear1(z)\n",
    "        \n",
    "        z = self.activation(z)#[32,64,256,32]\n",
    "\n",
    "        z = self.linear2(z)\n",
    "        z = nn.Sigmoid()(z) #[32,64,256,32]\n",
    "\n",
    "\n",
    "        return z"
   ]
  },
  {
   "cell_type": "code",
   "execution_count": null,
   "metadata": {
    "collapsed": false,
    "pycharm": {
     "name": "#%%\n"
    }
   },
   "outputs": [],
   "source": [
    "model3 = Simplemodel3(num_bits_per_symbol=NUM_BITS_PER_SYMBOL, H=Frame_SIZE, W=Blocklength)\n"
   ]
  },
  {
   "cell_type": "code",
   "execution_count": null,
   "metadata": {
    "collapsed": false,
    "pycharm": {
     "name": "#%%\n"
    }
   },
   "outputs": [],
   "source": [
    "output = model3(onebatch['samples']) \n"
   ]
  },
  {
   "cell_type": "code",
   "execution_count": null,
   "metadata": {
    "collapsed": false,
    "pycharm": {
     "name": "#%%\n"
    }
   },
   "outputs": [],
   "source": [
    "loss_fn(output,onebatch['labels'])"
   ]
  },
  {
   "cell_type": "markdown",
   "metadata": {
    "collapsed": false,
    "pycharm": {
     "name": "#%% md\n"
    }
   },
   "source": [
    "Model 4"
   ]
  },
  {
   "cell_type": "code",
   "execution_count": null,
   "metadata": {
    "collapsed": false,
    "pycharm": {
     "name": "#%%\n"
    }
   },
   "outputs": [],
   "source": [
    "class Simplemodel4(nn.Module):\n",
    "\n",
    "    def __init__(self, num_bits_per_symbol, H=64, W=256, out_channels=8, scale=8):\n",
    "        super(Simplemodel4, self).__init__()\n",
    "        self.cnn1 = nn.Conv2d(in_channels=2, out_channels=out_channels, kernel_size=3, stride=1, padding = (3 - 1) // 2) # Add a CNN layer\n",
    "        self.linear1=nn.Linear(in_features=out_channels, out_features=scale*num_bits_per_symbol)\n",
    "        self.linear2=nn.Linear(in_features=scale*num_bits_per_symbol, out_features=num_bits_per_symbol)        \n",
    "        self.activation = nn.Sigmoid()\n",
    "\n",
    "    def forward(self, inputs):\n",
    "        y = inputs\n",
    "        \n",
    "        z = torch.stack([y.real, y.imag], dim=1) #[2, 32, 64, 256]\n",
    "\n",
    "        z = self.cnn1(z) # [32, 2, 64, 256]\n",
    "        z = self.activation(z)\n",
    "\n",
    "        z = z.permute(0, 2, 3, 1) #[32, 64, 256, 2]\n",
    "        \n",
    "        z = self.linear1(z)\n",
    "        \n",
    "        z = self.activation(z)#[32,64,256,32]\n",
    "\n",
    "        z = self.linear2(z)\n",
    "        z = nn.Sigmoid()(z) #[32,64,256,32]\n",
    "\n",
    "\n",
    "        return z"
   ]
  },
  {
   "cell_type": "code",
   "execution_count": null,
   "metadata": {
    "collapsed": false,
    "pycharm": {
     "name": "#%%\n"
    }
   },
   "outputs": [],
   "source": [
    "model4 = Simplemodel4(num_bits_per_symbol=NUM_BITS_PER_SYMBOL, H=Frame_SIZE, W=Blocklength)\n",
    "output = model4(onebatch['samples']) \n",
    "loss_fn(output,onebatch['labels'])"
   ]
  },
  {
   "cell_type": "code",
   "execution_count": null,
   "metadata": {
    "collapsed": false,
    "pycharm": {
     "name": "#%%\n"
    }
   },
   "outputs": [],
   "source": [
    "class Simplemodel4(nn.Module):\n",
    "    def __init__(self, num_bits_per_symbol, H=64, W=256, out_channels=8, scale=8, activation=nn.Sigmoid()):\n",
    "        super(Simplemodel4, self).__init__()\n",
    "        self.cnn1 = nn.Conv2d(in_channels=2, out_channels=out_channels, kernel_size=3, stride=1, padding = (3 - 1) // 2) # Add a CNN layer\n",
    "        self.linear1=nn.Linear(in_features=out_channels, out_features=scale*num_bits_per_symbol)\n",
    "        self.linear2=nn.Linear(in_features=scale*num_bits_per_symbol, out_features=num_bits_per_symbol)        \n",
    "        self.activation = activation\n",
    "\n",
    "    def forward(self, inputs):\n",
    "        y = inputs\n",
    "        z = torch.stack([y.real, y.imag], dim=1) #[2, 32, 64, 256]\n",
    "        z = self.cnn1(z) # [32, 2, 64, 256]\n",
    "        z = self.activation(z)\n",
    "        z = z.permute(0, 2, 3, 1) #[32, 64, 256, 2]\n",
    "        z = self.linear1(z)\n",
    "        z = self.activation(z)#[32,64,256,32]\n",
    "        z = self.linear2(z)\n",
    "        z = nn.Sigmoid(z) #[32,64,256,32]\n",
    "        return z"
   ]
  },
  {
   "cell_type": "code",
   "execution_count": null,
   "metadata": {
    "collapsed": false,
    "pycharm": {
     "name": "#%%\n"
    }
   },
   "outputs": [],
   "source": [
    "model4 = Simplemodel4(num_bits_per_symbol=NUM_BITS_PER_SYMBOL, H=Frame_SIZE, W=Blocklength)\n",
    "output = model4(onebatch['samples']) \n",
    "loss_fn(output,onebatch['labels'])"
   ]
  },
  {
   "cell_type": "code",
   "execution_count": null,
   "metadata": {
    "collapsed": false,
    "pycharm": {
     "name": "#%%\n"
    }
   },
   "outputs": [],
   "source": [
    "for activation in [nn.Sigmoid(), nn.ReLU(), nn.LeakyReLU()]:\n",
    "    model = Simplemodel4(num_bits_per_symbol=NUM_BITS_PER_SYMBOL, H=Frame_SIZE, W=Blocklength, out_channels=64, activation=activation)\n",
    "    output = model(onebatch['samples']) \n",
    "    loss = loss_fn(output,onebatch['labels'])\n",
    "    print(f\"Activation: {activation}, loss: {loss}\")"
   ]
  },
  {
   "cell_type": "code",
   "execution_count": null,
   "metadata": {
    "collapsed": false,
    "pycharm": {
     "name": "#%%\n"
    }
   },
   "outputs": [],
   "source": [
    "import os\n",
    "trainoutput=os.path.join('output','exp0212')\n",
    "os.makedirs(trainoutput, exist_ok=True)\n",
    "print(\"Trainoutput folder:\", trainoutput)"
   ]
  },
  {
   "cell_type": "code",
   "execution_count": null,
   "metadata": {
    "collapsed": false,
    "pycharm": {
     "name": "#%%\n"
    }
   },
   "outputs": [],
   "source": [
    "train_losses = []\n",
    "val_losses = []\n",
    "val_BERs = []"
   ]
  },
  {
   "cell_type": "code",
   "execution_count": null,
   "metadata": {
    "collapsed": false,
    "pycharm": {
     "name": "#%%\n"
    }
   },
   "outputs": [],
   "source": [
    "model=model1.to(device)"
   ]
  },
  {
   "cell_type": "code",
   "execution_count": null,
   "metadata": {
    "collapsed": false,
    "pycharm": {
     "name": "#%%\n"
    }
   },
   "outputs": [],
   "source": [
    "from tqdm.auto import tqdm\n",
    "# Training loop\n",
    "start_epoch = 0\n",
    "num_epochs =20\n",
    "for epoch in range(start_epoch, num_epochs):\n",
    "    total_loss = 0.0\n",
    "    model.train()  # Set the model to training mode\n",
    "\n",
    "    for index, data_batch in enumerate(tqdm(train_loader)):\n",
    "        batch = {k: v.to(device) for k, v in data_batch.items()}\n",
    "        samples = batch['samples']\n",
    "        labels = batch['labels']\n",
    "        outputs = model(samples)  # forward pass \n",
    "        labels = labels.view(32, 64, 256,4)\n",
    "        loss = loss_fn(outputs, labels) \n",
    "        loss.backward()  # backward pass\n",
    "        optimizer.step()  # update the weights\n",
    "        total_loss += loss.item()  # accumulate the loss\n",
    "        optimizer.zero_grad()  # Zero the gradients\n",
    "\n",
    "    # Print average loss for the epoch\n",
    "    average_loss = total_loss / len(train_loader)\n",
    "\n",
    "    # Validation\n",
    "    model.eval()  # Set the model to evaluation mode\n",
    "    BER_batch=[]\n",
    "    with torch.no_grad():\n",
    "        for index, data_batch in enumerate(tqdm(val_loader)):\n",
    "            batch = {k: v.to(device) for k, v in data_batch.items()}\n",
    "            samples = batch['samples']\n",
    "            labels = batch['labels']\n",
    "            labels = labels.view(1, 64, 256,4)\n",
    "\n",
    "            val_outputs = model(samples)\n",
    "            val_loss = loss_fn(val_outputs, labels)\n",
    "\n",
    "            # Convert probabilities to binary predictions (0 or 1)\n",
    "            binary_predictions = torch.round(val_outputs)\n",
    "\n",
    "            # Calculate Bit Error Rate (BER)\n",
    "            error_count = torch.sum(binary_predictions != labels).float()  # Count of unequal bits\n",
    "            error_rate = error_count / len(labels.flatten())  # Error rate calculation\n",
    "            BER_batch.append(error_rate.item())\n",
    "            \n",
    "    # Save performance details\n",
    "    train_losses.append(average_loss)\n",
    "    val_losses.append(val_loss.item())\n",
    "    BER_batch_mean=np.mean(BER_batch)\n",
    "    val_BERs.append(BER_batch_mean)#(BER.item())\n",
    "\n",
    "    # Print or log validation loss after each epoch\n",
    "    print(f\"Epoch [{epoch + 1}/{num_epochs}], Loss: {average_loss:.4f}, Val Loss: {val_loss:.4f}, Val BER: {BER_batch_mean:.4f}\")\n",
    "    \n"
   ]
  },
  {
   "cell_type": "code",
   "execution_count": 313,
   "metadata": {},
   "outputs": [],
   "source": [
    "class Simplemodel2(nn.Module):\n",
    "\n",
    "    def __init__(self, num_bits_per_symbol, H=64, W=256):\n",
    "        super(Simplemodel2, self).__init__()\n",
    "        self.cnn1 = nn.Conv2d(in_channels=2, out_channels=4, kernel_size=3, stride=1, padding = (3 - 1) // 2) # Add a CNN layer\n",
    "        scale = 8\n",
    "        self.linear1=nn.Linear(in_features=4, out_features=scale*num_bits_per_symbol)\n",
    "        self.linear2=nn.Linear(in_features=scale*num_bits_per_symbol, out_features=num_bits_per_symbol)        \n",
    "        self.activation = nn.ReLU()\n",
    "\n",
    "    def forward(self, inputs):\n",
    "        y = inputs\n",
    "        \n",
    "        z = torch.stack([y.real, y.imag], dim=1) #[2, 32, 64, 256]\n",
    "\n",
    "        z = self.cnn1(z) # [32, 2, 64, 256]\n",
    "        # print(\"After cnn1: \", z.shape)  # Print the shape after the convolutional layer\n",
    "        z = self.activation(z)\n",
    "        # print(\"Before reshaping: \", z.shape)# [32, 2, 64, 256]\n",
    "\n",
    "        z = z.permute(0, 2, 3, 1) #[32, 64, 256, 2]\n",
    "        # print(\"Before linear1: \", z.shape)  # Print the shape before the linear layer\n",
    "        \n",
    "        z = self.linear1(z)\n",
    "        # print(\"After linear1: \", z.shape)  # Print the shape before the linear layer\n",
    "        \n",
    "        z = self.activation(z)#[32,64,256,32]\n",
    "        # print(\"Before linear1: \", z.shape)  # Print the shape before the linear layer\n",
    "\n",
    "        z = self.linear2(z)\n",
    "        # print(\"After linear2: \", z.shape)  # Print the shape before the linear layer\n",
    "        z = nn.Sigmoid()(z) #[32,64,256,32]\n",
    "\n",
    "        # z = z.view(-1,32,4) #[batch_size, num_bits_per_symbol]\n",
    "        # print(\"After model: \", z.shape)  # Print the shape before the linear layer\n",
    "\n",
    "        return z"
   ]
  },
  {
   "cell_type": "code",
   "execution_count": 314,
   "metadata": {},
   "outputs": [],
   "source": [
    "model2 = Simplemodel2(num_bits_per_symbol=NUM_BITS_PER_SYMBOL, H=Frame_SIZE, W=Blocklength)"
   ]
  },
  {
   "cell_type": "code",
   "execution_count": 316,
   "metadata": {},
   "outputs": [],
   "source": [
    "output = model2(onebatch['samples']) \n"
   ]
  },
  {
   "cell_type": "code",
   "execution_count": 323,
   "metadata": {},
   "outputs": [
    {
     "data": {
      "text/plain": [
       "torch.Size([32, 64, 256, 4])"
      ]
     },
     "execution_count": 323,
     "metadata": {},
     "output_type": "execute_result"
    }
   ],
   "source": [
    "output.shape\n"
   ]
  },
  {
   "cell_type": "code",
   "execution_count": 326,
   "metadata": {},
   "outputs": [],
   "source": [
    "# Setup loss and optimizer pip install ipywidgets\n",
    "loss_fn = nn.BCELoss() #nn.BCEWithLogitsLoss()\n",
    "optimizer = torch.optim.SGD(model.parameters(), lr=0.1)"
   ]
  },
  {
   "cell_type": "code",
   "execution_count": 327,
   "metadata": {},
   "outputs": [],
   "source": [
    "test=torch.tensor([0,0,0,1,1,1], dtype=torch.float)"
   ]
  },
  {
   "cell_type": "code",
   "execution_count": 328,
   "metadata": {},
   "outputs": [
    {
     "data": {
      "text/plain": [
       "tensor(0.)"
      ]
     },
     "execution_count": 328,
     "metadata": {},
     "output_type": "execute_result"
    }
   ],
   "source": [
    "loss_fn(test,test)"
   ]
  },
  {
   "cell_type": "code",
   "execution_count": 333,
   "metadata": {},
   "outputs": [
    {
     "data": {
      "text/plain": [
       "torch.Size([32, 64, 256, 4])"
      ]
     },
     "execution_count": 333,
     "metadata": {},
     "output_type": "execute_result"
    }
   ],
   "source": [
    "onebatch['labels'] = onebatch['labels'].view(32, 64, 256,4)\n",
    "onebatch['labels'].shape"
   ]
  },
  {
   "cell_type": "code",
   "execution_count": 334,
   "metadata": {},
   "outputs": [
    {
     "data": {
      "text/plain": [
       "tensor(0.6992, grad_fn=<BinaryCrossEntropyBackward0>)"
      ]
     },
     "execution_count": 334,
     "metadata": {},
     "output_type": "execute_result"
    }
   ],
   "source": [
    "loss_fn(output,onebatch['labels'])"
   ]
  },
  {
   "cell_type": "markdown",
   "metadata": {},
   "source": [
    "Model2 Tuning"
   ]
  },
  {
   "cell_type": "code",
   "execution_count": 362,
   "metadata": {},
   "outputs": [],
   "source": [
    "class Simplemodel2_2(nn.Module):\n",
    "\n",
    "    def __init__(self, num_bits_per_symbol, H=64, W=256, out_channels=8, scale=8):\n",
    "        super(Simplemodel2_2, self).__init__()\n",
    "        self.cnn1 = nn.Conv2d(in_channels=2, out_channels=out_channels, kernel_size=3, stride=1, padding = (3 - 1) // 2) # Add a CNN layer\n",
    "        self.linear1=nn.Linear(in_features=out_channels, out_features=scale*num_bits_per_symbol)\n",
    "        self.linear2=nn.Linear(in_features=scale*num_bits_per_symbol, out_features=num_bits_per_symbol)        \n",
    "        self.activation = nn.ReLU()\n",
    "\n",
    "    def forward(self, inputs):\n",
    "        y = inputs\n",
    "        \n",
    "        z = torch.stack([y.real, y.imag], dim=1) #[2, 32, 64, 256]\n",
    "\n",
    "        z = self.cnn1(z) # [32, 2, 64, 256]\n",
    "        z = self.activation(z)\n",
    "\n",
    "        z = z.permute(0, 2, 3, 1) #[32, 64, 256, 2]\n",
    "        \n",
    "        z = self.linear1(z)\n",
    "        \n",
    "        z = self.activation(z)#[32,64,256,32]\n",
    "\n",
    "        z = self.linear2(z)\n",
    "        z = nn.Sigmoid()(z) #[32,64,256,32]\n",
    "\n",
    "\n",
    "        return z"
   ]
  },
  {
   "cell_type": "code",
   "execution_count": 363,
   "metadata": {},
   "outputs": [
    {
     "data": {
      "text/plain": [
       "tensor(0.6992, grad_fn=<BinaryCrossEntropyBackward0>)"
      ]
     },
     "execution_count": 363,
     "metadata": {},
     "output_type": "execute_result"
    }
   ],
   "source": [
    "model2_2 = Simplemodel2_2(num_bits_per_symbol=NUM_BITS_PER_SYMBOL, H=Frame_SIZE, W=Blocklength)\n",
    "output = model2_2(onebatch['samples']) \n",
    "loss_fn(output,onebatch['labels'])"
   ]
  },
  {
   "cell_type": "code",
   "execution_count": 359,
   "metadata": {},
   "outputs": [
    {
     "name": "stdout",
     "output_type": "stream",
     "text": [
      "out_channels: 4, loss: 0.6964638829231262\n",
      "out_channels: 8, loss: 0.6983799934387207\n",
      "out_channels: 16, loss: 0.7030550837516785\n",
      "out_channels: 32, loss: 0.696799635887146\n",
      "out_channels: 64, loss: 0.6935634016990662\n",
      "out_channels: 128, loss: 0.6966190934181213\n",
      "out_channels: 256, loss: 0.6962556838989258\n"
     ]
    }
   ],
   "source": [
    "for out_channels in [4, 8, 16, 32, 64, 128, 256]:\n",
    "    model = Simplemodel2_2(num_bits_per_symbol=NUM_BITS_PER_SYMBOL, H=Frame_SIZE, W=Blocklength, out_channels=out_channels)\n",
    "    output = model(onebatch['samples']) \n",
    "    loss = loss_fn(output,onebatch['labels'])\n",
    "    print(f\"out_channels: {out_channels}, loss: {loss}\")"
   ]
  },
  {
   "cell_type": "code",
   "execution_count": 364,
   "metadata": {},
   "outputs": [
    {
     "name": "stdout",
     "output_type": "stream",
     "text": [
      "scale 4, loss: 0.6937697529792786\n",
      "scale 8, loss: 0.6943815350532532\n",
      "scale 16, loss: 0.6958500742912292\n",
      "scale 32, loss: 0.69366455078125\n",
      "scale 64, loss: 0.6967389583587646\n",
      "scale 128, loss: 0.694881021976471\n",
      "scale 256, loss: 0.6944703459739685\n"
     ]
    }
   ],
   "source": [
    "for scale in [4, 8, 16, 32, 64, 128, 256]:\n",
    "    model = Simplemodel2_2(num_bits_per_symbol=NUM_BITS_PER_SYMBOL, H=Frame_SIZE, W=Blocklength, out_channels=64, scale=scale)\n",
    "    output = model(onebatch['samples']) \n",
    "    loss = loss_fn(output,onebatch['labels'])\n",
    "    print(f\"scale {scale}, loss: {loss}\")"
   ]
  },
  {
   "cell_type": "markdown",
   "metadata": {},
   "source": [
    "Model 3"
   ]
  },
  {
   "cell_type": "code",
   "execution_count": 371,
   "metadata": {},
   "outputs": [],
   "source": [
    "class Simplemodel3(nn.Module):\n",
    "\n",
    "    def __init__(self, num_bits_per_symbol, H=64, W=256):\n",
    "        super(Simplemodel3, self).__init__()\n",
    "        self.cnn1 = nn.Conv2d(in_channels=2, out_channels=8, kernel_size=3, stride=1, padding = (3 - 1) // 2) # Add a CNN layer\n",
    "        self.cnn2 = nn.Conv2d(in_channels=8, out_channels=32, kernel_size=3, stride=1, padding = (3 - 1) // 2) # Add a CNN layer\n",
    "\n",
    "        scale = 8\n",
    "        self.linear1=nn.Linear(in_features=32, out_features=scale*num_bits_per_symbol)\n",
    "        self.linear2=nn.Linear(in_features=scale*num_bits_per_symbol, out_features=num_bits_per_symbol)        \n",
    "        self.activation = nn.ReLU()\n",
    "\n",
    "    def forward(self, inputs):\n",
    "        y = inputs\n",
    "        \n",
    "        z = torch.stack([y.real, y.imag], dim=1) #[2, 32, 64, 256]\n",
    "\n",
    "        z = self.cnn1(z) # [32, 2, 64, 256]\n",
    "        z = self.activation(z)\n",
    "\n",
    "        z = self.cnn2(z) # [32, 2, 64, 256]\n",
    "        z = self.activation(z)\n",
    "        \n",
    "        z = z.permute(0, 2, 3, 1) #[32, 64, 256, 2]\n",
    "        \n",
    "        z = self.linear1(z)\n",
    "        \n",
    "        z = self.activation(z)#[32,64,256,32]\n",
    "\n",
    "        z = self.linear2(z)\n",
    "        z = nn.Sigmoid()(z) #[32,64,256,32]\n",
    "\n",
    "\n",
    "        return z"
   ]
  },
  {
   "cell_type": "code",
   "execution_count": 372,
   "metadata": {},
   "outputs": [],
   "source": [
    "model3 = Simplemodel3(num_bits_per_symbol=NUM_BITS_PER_SYMBOL, H=Frame_SIZE, W=Blocklength)\n"
   ]
  },
  {
   "cell_type": "code",
   "execution_count": 373,
   "metadata": {},
   "outputs": [],
   "source": [
    "output = model3(onebatch['samples']) \n"
   ]
  },
  {
   "cell_type": "code",
   "execution_count": 374,
   "metadata": {},
   "outputs": [
    {
     "data": {
      "text/plain": [
       "tensor(0.6957, grad_fn=<BinaryCrossEntropyBackward0>)"
      ]
     },
     "execution_count": 374,
     "metadata": {},
     "output_type": "execute_result"
    }
   ],
   "source": [
    "loss_fn(output,onebatch['labels'])"
   ]
  },
  {
   "cell_type": "markdown",
   "metadata": {},
   "source": [
    "Model 4"
   ]
  },
  {
   "cell_type": "code",
   "execution_count": 376,
   "metadata": {},
   "outputs": [],
   "source": [
    "class Simplemodel4(nn.Module):\n",
    "\n",
    "    def __init__(self, num_bits_per_symbol, H=64, W=256, out_channels=8, scale=8):\n",
    "        super(Simplemodel4, self).__init__()\n",
    "        self.cnn1 = nn.Conv2d(in_channels=2, out_channels=out_channels, kernel_size=3, stride=1, padding = (3 - 1) // 2) # Add a CNN layer\n",
    "        self.linear1=nn.Linear(in_features=out_channels, out_features=scale*num_bits_per_symbol)\n",
    "        self.linear2=nn.Linear(in_features=scale*num_bits_per_symbol, out_features=num_bits_per_symbol)        \n",
    "        self.activation = nn.Sigmoid()\n",
    "\n",
    "    def forward(self, inputs):\n",
    "        y = inputs\n",
    "        \n",
    "        z = torch.stack([y.real, y.imag], dim=1) #[2, 32, 64, 256]\n",
    "\n",
    "        z = self.cnn1(z) # [32, 2, 64, 256]\n",
    "        z = self.activation(z)\n",
    "\n",
    "        z = z.permute(0, 2, 3, 1) #[32, 64, 256, 2]\n",
    "        \n",
    "        z = self.linear1(z)\n",
    "        \n",
    "        z = self.activation(z)#[32,64,256,32]\n",
    "\n",
    "        z = self.linear2(z)\n",
    "        z = nn.Sigmoid()(z) #[32,64,256,32]\n",
    "\n",
    "\n",
    "        return z"
   ]
  },
  {
   "cell_type": "code",
   "execution_count": 377,
   "metadata": {},
   "outputs": [
    {
     "data": {
      "text/plain": [
       "tensor(0.7069, grad_fn=<BinaryCrossEntropyBackward0>)"
      ]
     },
     "execution_count": 377,
     "metadata": {},
     "output_type": "execute_result"
    }
   ],
   "source": [
    "model4 = Simplemodel4(num_bits_per_symbol=NUM_BITS_PER_SYMBOL, H=Frame_SIZE, W=Blocklength)\n",
    "output = model4(onebatch['samples']) \n",
    "loss_fn(output,onebatch['labels'])"
   ]
  },
  {
   "cell_type": "code",
   "execution_count": 384,
   "metadata": {},
   "outputs": [],
   "source": [
    "class Simplemodel4(nn.Module):\n",
    "    def __init__(self, num_bits_per_symbol, H=64, W=256, out_channels=8, scale=8, activation=nn.Sigmoid()):\n",
    "        super(Simplemodel4, self).__init__()\n",
    "        self.cnn1 = nn.Conv2d(in_channels=2, out_channels=out_channels, kernel_size=3, stride=1, padding = (3 - 1) // 2) # Add a CNN layer\n",
    "        self.linear1=nn.Linear(in_features=out_channels, out_features=scale*num_bits_per_symbol)\n",
    "        self.linear2=nn.Linear(in_features=scale*num_bits_per_symbol, out_features=num_bits_per_symbol)        \n",
    "        self.activation = activation\n",
    "\n",
    "    def forward(self, inputs):\n",
    "        y = inputs\n",
    "        z = torch.stack([y.real, y.imag], dim=1) #[2, 32, 64, 256]\n",
    "        z = self.cnn1(z) # [32, 2, 64, 256]\n",
    "        z = self.activation(z)\n",
    "        z = z.permute(0, 2, 3, 1) #[32, 64, 256, 2]\n",
    "        z = self.linear1(z)\n",
    "        z = self.activation(z)#[32,64,256,32]\n",
    "        z = self.linear2(z)\n",
    "        z = nn.Sigmoid(z) #[32,64,256,32]\n",
    "        return z"
   ]
  },
  {
   "cell_type": "code",
   "execution_count": 385,
   "metadata": {},
   "outputs": [
    {
     "ename": "TypeError",
     "evalue": "Sigmoid.__init__() takes 1 positional argument but 2 were given",
     "output_type": "error",
     "traceback": [
      "\u001b[1;31m---------------------------------------------------------------------------\u001b[0m",
      "\u001b[1;31mTypeError\u001b[0m                                 Traceback (most recent call last)",
      "Cell \u001b[1;32mIn[385], line 2\u001b[0m\n\u001b[0;32m      1\u001b[0m model4 \u001b[38;5;241m=\u001b[39m Simplemodel4(num_bits_per_symbol\u001b[38;5;241m=\u001b[39mNUM_BITS_PER_SYMBOL, H\u001b[38;5;241m=\u001b[39mFrame_SIZE, W\u001b[38;5;241m=\u001b[39mBlocklength)\n\u001b[1;32m----> 2\u001b[0m output \u001b[38;5;241m=\u001b[39m \u001b[43mmodel4\u001b[49m\u001b[43m(\u001b[49m\u001b[43monebatch\u001b[49m\u001b[43m[\u001b[49m\u001b[38;5;124;43m'\u001b[39;49m\u001b[38;5;124;43msamples\u001b[39;49m\u001b[38;5;124;43m'\u001b[39;49m\u001b[43m]\u001b[49m\u001b[43m)\u001b[49m \n\u001b[0;32m      3\u001b[0m loss_fn(output,onebatch[\u001b[38;5;124m'\u001b[39m\u001b[38;5;124mlabels\u001b[39m\u001b[38;5;124m'\u001b[39m])\n",
      "File \u001b[1;32mc:\\Users\\Kenneth\\anaconda3\\envs\\gpuenv\\Lib\\site-packages\\torch\\nn\\modules\\module.py:1511\u001b[0m, in \u001b[0;36mModule._wrapped_call_impl\u001b[1;34m(self, *args, **kwargs)\u001b[0m\n\u001b[0;32m   1509\u001b[0m     \u001b[38;5;28;01mreturn\u001b[39;00m \u001b[38;5;28mself\u001b[39m\u001b[38;5;241m.\u001b[39m_compiled_call_impl(\u001b[38;5;241m*\u001b[39margs, \u001b[38;5;241m*\u001b[39m\u001b[38;5;241m*\u001b[39mkwargs)  \u001b[38;5;66;03m# type: ignore[misc]\u001b[39;00m\n\u001b[0;32m   1510\u001b[0m \u001b[38;5;28;01melse\u001b[39;00m:\n\u001b[1;32m-> 1511\u001b[0m     \u001b[38;5;28;01mreturn\u001b[39;00m \u001b[38;5;28;43mself\u001b[39;49m\u001b[38;5;241;43m.\u001b[39;49m\u001b[43m_call_impl\u001b[49m\u001b[43m(\u001b[49m\u001b[38;5;241;43m*\u001b[39;49m\u001b[43margs\u001b[49m\u001b[43m,\u001b[49m\u001b[43m \u001b[49m\u001b[38;5;241;43m*\u001b[39;49m\u001b[38;5;241;43m*\u001b[39;49m\u001b[43mkwargs\u001b[49m\u001b[43m)\u001b[49m\n",
      "File \u001b[1;32mc:\\Users\\Kenneth\\anaconda3\\envs\\gpuenv\\Lib\\site-packages\\torch\\nn\\modules\\module.py:1520\u001b[0m, in \u001b[0;36mModule._call_impl\u001b[1;34m(self, *args, **kwargs)\u001b[0m\n\u001b[0;32m   1515\u001b[0m \u001b[38;5;66;03m# If we don't have any hooks, we want to skip the rest of the logic in\u001b[39;00m\n\u001b[0;32m   1516\u001b[0m \u001b[38;5;66;03m# this function, and just call forward.\u001b[39;00m\n\u001b[0;32m   1517\u001b[0m \u001b[38;5;28;01mif\u001b[39;00m \u001b[38;5;129;01mnot\u001b[39;00m (\u001b[38;5;28mself\u001b[39m\u001b[38;5;241m.\u001b[39m_backward_hooks \u001b[38;5;129;01mor\u001b[39;00m \u001b[38;5;28mself\u001b[39m\u001b[38;5;241m.\u001b[39m_backward_pre_hooks \u001b[38;5;129;01mor\u001b[39;00m \u001b[38;5;28mself\u001b[39m\u001b[38;5;241m.\u001b[39m_forward_hooks \u001b[38;5;129;01mor\u001b[39;00m \u001b[38;5;28mself\u001b[39m\u001b[38;5;241m.\u001b[39m_forward_pre_hooks\n\u001b[0;32m   1518\u001b[0m         \u001b[38;5;129;01mor\u001b[39;00m _global_backward_pre_hooks \u001b[38;5;129;01mor\u001b[39;00m _global_backward_hooks\n\u001b[0;32m   1519\u001b[0m         \u001b[38;5;129;01mor\u001b[39;00m _global_forward_hooks \u001b[38;5;129;01mor\u001b[39;00m _global_forward_pre_hooks):\n\u001b[1;32m-> 1520\u001b[0m     \u001b[38;5;28;01mreturn\u001b[39;00m \u001b[43mforward_call\u001b[49m\u001b[43m(\u001b[49m\u001b[38;5;241;43m*\u001b[39;49m\u001b[43margs\u001b[49m\u001b[43m,\u001b[49m\u001b[43m \u001b[49m\u001b[38;5;241;43m*\u001b[39;49m\u001b[38;5;241;43m*\u001b[39;49m\u001b[43mkwargs\u001b[49m\u001b[43m)\u001b[49m\n\u001b[0;32m   1522\u001b[0m \u001b[38;5;28;01mtry\u001b[39;00m:\n\u001b[0;32m   1523\u001b[0m     result \u001b[38;5;241m=\u001b[39m \u001b[38;5;28;01mNone\u001b[39;00m\n",
      "Cell \u001b[1;32mIn[384], line 18\u001b[0m, in \u001b[0;36mSimplemodel4.forward\u001b[1;34m(self, inputs)\u001b[0m\n\u001b[0;32m     16\u001b[0m z \u001b[38;5;241m=\u001b[39m \u001b[38;5;28mself\u001b[39m\u001b[38;5;241m.\u001b[39mactivation(z)\u001b[38;5;66;03m#[32,64,256,32]\u001b[39;00m\n\u001b[0;32m     17\u001b[0m z \u001b[38;5;241m=\u001b[39m \u001b[38;5;28mself\u001b[39m\u001b[38;5;241m.\u001b[39mlinear2(z)\n\u001b[1;32m---> 18\u001b[0m z \u001b[38;5;241m=\u001b[39m \u001b[43mnn\u001b[49m\u001b[38;5;241;43m.\u001b[39;49m\u001b[43mSigmoid\u001b[49m\u001b[43m(\u001b[49m\u001b[43mz\u001b[49m\u001b[43m)\u001b[49m \u001b[38;5;66;03m#[32,64,256,32]\u001b[39;00m\n\u001b[0;32m     19\u001b[0m \u001b[38;5;28;01mreturn\u001b[39;00m z\n",
      "File \u001b[1;32mc:\\Users\\Kenneth\\anaconda3\\envs\\gpuenv\\Lib\\site-packages\\torch\\nn\\modules\\module.py:461\u001b[0m, in \u001b[0;36mModule.__init__\u001b[1;34m(self, *args, **kwargs)\u001b[0m\n\u001b[0;32m    457\u001b[0m     \u001b[38;5;28;01mraise\u001b[39;00m \u001b[38;5;167;01mTypeError\u001b[39;00m(\u001b[38;5;124m\"\u001b[39m\u001b[38;5;132;01m{}\u001b[39;00m\u001b[38;5;124m.__init__() got an unexpected keyword argument \u001b[39m\u001b[38;5;124m'\u001b[39m\u001b[38;5;132;01m{}\u001b[39;00m\u001b[38;5;124m'\u001b[39m\u001b[38;5;124m\"\u001b[39m\n\u001b[0;32m    458\u001b[0m                     \u001b[38;5;124m\"\u001b[39m\u001b[38;5;124m\"\u001b[39m\u001b[38;5;241m.\u001b[39mformat(\u001b[38;5;28mtype\u001b[39m(\u001b[38;5;28mself\u001b[39m)\u001b[38;5;241m.\u001b[39m\u001b[38;5;18m__name__\u001b[39m, \u001b[38;5;28mnext\u001b[39m(\u001b[38;5;28miter\u001b[39m(kwargs))))\n\u001b[0;32m    460\u001b[0m \u001b[38;5;28;01mif\u001b[39;00m \u001b[38;5;28mself\u001b[39m\u001b[38;5;241m.\u001b[39mcall_super_init \u001b[38;5;129;01mis\u001b[39;00m \u001b[38;5;28;01mFalse\u001b[39;00m \u001b[38;5;129;01mand\u001b[39;00m \u001b[38;5;28mbool\u001b[39m(args):\n\u001b[1;32m--> 461\u001b[0m     \u001b[38;5;28;01mraise\u001b[39;00m \u001b[38;5;167;01mTypeError\u001b[39;00m(\u001b[38;5;124mf\u001b[39m\u001b[38;5;124m\"\u001b[39m\u001b[38;5;132;01m{\u001b[39;00m\u001b[38;5;28mtype\u001b[39m(\u001b[38;5;28mself\u001b[39m)\u001b[38;5;241m.\u001b[39m\u001b[38;5;18m__name__\u001b[39m\u001b[38;5;132;01m}\u001b[39;00m\u001b[38;5;124m.__init__() takes 1 positional argument but \u001b[39m\u001b[38;5;132;01m{\u001b[39;00m\u001b[38;5;28mlen\u001b[39m(args)\u001b[38;5;250m \u001b[39m\u001b[38;5;241m+\u001b[39m\u001b[38;5;250m \u001b[39m\u001b[38;5;241m1\u001b[39m\u001b[38;5;132;01m}\u001b[39;00m\u001b[38;5;124m were\u001b[39m\u001b[38;5;124m\"\u001b[39m\n\u001b[0;32m    462\u001b[0m                     \u001b[38;5;124m\"\u001b[39m\u001b[38;5;124m given\u001b[39m\u001b[38;5;124m\"\u001b[39m)\n\u001b[0;32m    464\u001b[0m \u001b[38;5;250m\u001b[39m\u001b[38;5;124;03m\"\"\"\u001b[39;00m\n\u001b[0;32m    465\u001b[0m \u001b[38;5;124;03mCalls super().__setattr__('a', a) instead of the typical self.a = a\u001b[39;00m\n\u001b[0;32m    466\u001b[0m \u001b[38;5;124;03mto avoid Module.__setattr__ overhead. Module's __setattr__ has special\u001b[39;00m\n\u001b[0;32m    467\u001b[0m \u001b[38;5;124;03mhandling for parameters, submodules, and buffers but simply calls into\u001b[39;00m\n\u001b[0;32m    468\u001b[0m \u001b[38;5;124;03msuper().__setattr__ for all other attributes.\u001b[39;00m\n\u001b[0;32m    469\u001b[0m \u001b[38;5;124;03m\"\"\"\u001b[39;00m\n\u001b[0;32m    470\u001b[0m \u001b[38;5;28msuper\u001b[39m()\u001b[38;5;241m.\u001b[39m\u001b[38;5;21m__setattr__\u001b[39m(\u001b[38;5;124m'\u001b[39m\u001b[38;5;124mtraining\u001b[39m\u001b[38;5;124m'\u001b[39m, \u001b[38;5;28;01mTrue\u001b[39;00m)\n",
      "\u001b[1;31mTypeError\u001b[0m: Sigmoid.__init__() takes 1 positional argument but 2 were given"
     ]
    }
   ],
   "source": [
    "model4 = Simplemodel4(num_bits_per_symbol=NUM_BITS_PER_SYMBOL, H=Frame_SIZE, W=Blocklength)\n",
    "output = model4(onebatch['samples']) \n",
    "loss_fn(output,onebatch['labels'])"
   ]
  },
  {
   "cell_type": "code",
   "execution_count": null,
   "metadata": {},
   "outputs": [],
   "source": [
    "for activation in [nn.Sigmoid(), nn.ReLU(), nn.LeakyReLU()]:\n",
    "    model = Simplemodel4(num_bits_per_symbol=NUM_BITS_PER_SYMBOL, H=Frame_SIZE, W=Blocklength, out_channels=64, activation=activation)\n",
    "    output = model(onebatch['samples']) \n",
    "    loss = loss_fn(output,onebatch['labels'])\n",
    "    print(f\"Activation: {activation}, loss: {loss}\")"
   ]
  },
  {
   "cell_type": "code",
   "execution_count": 264,
   "metadata": {
    "pycharm": {
     "name": "#%%\n"
    }
   },
   "outputs": [
    {
     "name": "stdout",
     "output_type": "stream",
     "text": [
      "Trainoutput folder: output\\exp0212\n"
     ]
    }
   ],
   "source": [
    "import os\n",
    "trainoutput=os.path.join('output','exp0212')\n",
    "os.makedirs(trainoutput, exist_ok=True)\n",
    "print(\"Trainoutput folder:\", trainoutput)"
   ]
  },
  {
   "cell_type": "code",
   "execution_count": 265,
   "metadata": {
    "pycharm": {
     "name": "#%%\n"
    }
   },
   "outputs": [],
   "source": [
    "train_losses = []\n",
    "val_losses = []\n",
    "val_BERs = []"
   ]
  },
  {
   "cell_type": "code",
   "execution_count": 266,
   "metadata": {
    "pycharm": {
     "name": "#%%\n"
    }
   },
   "outputs": [],
   "source": [
    "model=model1.to(device)"
   ]
  },
  {
   "cell_type": "code",
   "execution_count": 279,
   "metadata": {
    "pycharm": {
     "name": "#%%\n"
    }
   },
   "outputs": [
    {
     "name": "stderr",
     "output_type": "stream",
     "text": [
      "100%|██████████████████████████████████████████████████████████| 80/80 [00:05<00:00, 13.47it/s]\n",
      "100%|███████████████████████████████████████████████████████| 640/640 [00:01<00:00, 384.86it/s]\n"
     ]
    },
    {
     "name": "stdout",
     "output_type": "stream",
     "text": [
      "Epoch [1/20], Loss: 0.7024, Val Loss: 0.7019, Val BER: 0.4984\n"
     ]
    },
    {
     "name": "stderr",
     "output_type": "stream",
     "text": [
      "100%|██████████████████████████████████████████████████████████| 80/80 [00:06<00:00, 13.16it/s]\n",
      "100%|███████████████████████████████████████████████████████| 640/640 [00:01<00:00, 383.24it/s]\n"
     ]
    },
    {
     "name": "stdout",
     "output_type": "stream",
     "text": [
      "Epoch [2/20], Loss: 0.7024, Val Loss: 0.7040, Val BER: 0.4980\n"
     ]
    },
    {
     "name": "stderr",
     "output_type": "stream",
     "text": [
      "100%|██████████████████████████████████████████████████████████| 80/80 [00:05<00:00, 13.74it/s]\n",
      "100%|███████████████████████████████████████████████████████| 640/640 [00:01<00:00, 387.18it/s]\n"
     ]
    },
    {
     "name": "stdout",
     "output_type": "stream",
     "text": [
      "Epoch [3/20], Loss: 0.7024, Val Loss: 0.7018, Val BER: 0.4982\n"
     ]
    },
    {
     "name": "stderr",
     "output_type": "stream",
     "text": [
      "100%|██████████████████████████████████████████████████████████| 80/80 [00:05<00:00, 13.36it/s]\n",
      "100%|███████████████████████████████████████████████████████| 640/640 [00:01<00:00, 388.70it/s]\n"
     ]
    },
    {
     "name": "stdout",
     "output_type": "stream",
     "text": [
      "Epoch [4/20], Loss: 0.7024, Val Loss: 0.7017, Val BER: 0.4983\n"
     ]
    },
    {
     "name": "stderr",
     "output_type": "stream",
     "text": [
      "100%|██████████████████████████████████████████████████████████| 80/80 [00:05<00:00, 13.67it/s]\n",
      "100%|███████████████████████████████████████████████████████| 640/640 [00:01<00:00, 385.90it/s]\n"
     ]
    },
    {
     "name": "stdout",
     "output_type": "stream",
     "text": [
      "Epoch [5/20], Loss: 0.7024, Val Loss: 0.7023, Val BER: 0.4983\n"
     ]
    },
    {
     "name": "stderr",
     "output_type": "stream",
     "text": [
      "100%|██████████████████████████████████████████████████████████| 80/80 [00:06<00:00, 13.17it/s]\n",
      "100%|███████████████████████████████████████████████████████| 640/640 [00:01<00:00, 386.13it/s]\n"
     ]
    },
    {
     "name": "stdout",
     "output_type": "stream",
     "text": [
      "Epoch [6/20], Loss: 0.7024, Val Loss: 0.7019, Val BER: 0.4983\n"
     ]
    },
    {
     "name": "stderr",
     "output_type": "stream",
     "text": [
      "100%|██████████████████████████████████████████████████████████| 80/80 [00:05<00:00, 13.51it/s]\n",
      "100%|███████████████████████████████████████████████████████| 640/640 [00:01<00:00, 389.67it/s]\n"
     ]
    },
    {
     "name": "stdout",
     "output_type": "stream",
     "text": [
      "Epoch [7/20], Loss: 0.7024, Val Loss: 0.7017, Val BER: 0.4982\n"
     ]
    },
    {
     "name": "stderr",
     "output_type": "stream",
     "text": [
      "100%|██████████████████████████████████████████████████████████| 80/80 [00:05<00:00, 13.59it/s]\n",
      "100%|███████████████████████████████████████████████████████| 640/640 [00:01<00:00, 386.02it/s]\n"
     ]
    },
    {
     "name": "stdout",
     "output_type": "stream",
     "text": [
      "Epoch [8/20], Loss: 0.7024, Val Loss: 0.7016, Val BER: 0.4981\n"
     ]
    },
    {
     "name": "stderr",
     "output_type": "stream",
     "text": [
      "100%|██████████████████████████████████████████████████████████| 80/80 [00:05<00:00, 14.10it/s]\n",
      "100%|███████████████████████████████████████████████████████| 640/640 [00:01<00:00, 384.27it/s]\n"
     ]
    },
    {
     "name": "stdout",
     "output_type": "stream",
     "text": [
      "Epoch [9/20], Loss: 0.7024, Val Loss: 0.7023, Val BER: 0.4982\n"
     ]
    },
    {
     "name": "stderr",
     "output_type": "stream",
     "text": [
      "100%|██████████████████████████████████████████████████████████| 80/80 [00:06<00:00, 12.75it/s]\n",
      "100%|███████████████████████████████████████████████████████| 640/640 [00:01<00:00, 390.02it/s]\n"
     ]
    },
    {
     "name": "stdout",
     "output_type": "stream",
     "text": [
      "Epoch [10/20], Loss: 0.7024, Val Loss: 0.7020, Val BER: 0.4982\n"
     ]
    },
    {
     "name": "stderr",
     "output_type": "stream",
     "text": [
      "100%|██████████████████████████████████████████████████████████| 80/80 [00:05<00:00, 13.59it/s]\n",
      "100%|███████████████████████████████████████████████████████| 640/640 [00:01<00:00, 387.43it/s]\n"
     ]
    },
    {
     "name": "stdout",
     "output_type": "stream",
     "text": [
      "Epoch [11/20], Loss: 0.7024, Val Loss: 0.7012, Val BER: 0.4982\n"
     ]
    },
    {
     "name": "stderr",
     "output_type": "stream",
     "text": [
      "100%|██████████████████████████████████████████████████████████| 80/80 [00:05<00:00, 13.67it/s]\n",
      "100%|███████████████████████████████████████████████████████| 640/640 [00:01<00:00, 388.85it/s]\n"
     ]
    },
    {
     "name": "stdout",
     "output_type": "stream",
     "text": [
      "Epoch [12/20], Loss: 0.7024, Val Loss: 0.7019, Val BER: 0.4982\n"
     ]
    },
    {
     "name": "stderr",
     "output_type": "stream",
     "text": [
      "100%|██████████████████████████████████████████████████████████| 80/80 [00:06<00:00, 13.33it/s]\n",
      "100%|███████████████████████████████████████████████████████| 640/640 [00:01<00:00, 389.68it/s]\n"
     ]
    },
    {
     "name": "stdout",
     "output_type": "stream",
     "text": [
      "Epoch [13/20], Loss: 0.7024, Val Loss: 0.7027, Val BER: 0.4983\n"
     ]
    },
    {
     "name": "stderr",
     "output_type": "stream",
     "text": [
      "100%|██████████████████████████████████████████████████████████| 80/80 [00:05<00:00, 13.64it/s]\n",
      "100%|███████████████████████████████████████████████████████| 640/640 [00:01<00:00, 383.01it/s]\n"
     ]
    },
    {
     "name": "stdout",
     "output_type": "stream",
     "text": [
      "Epoch [14/20], Loss: 0.7024, Val Loss: 0.7031, Val BER: 0.4982\n"
     ]
    },
    {
     "name": "stderr",
     "output_type": "stream",
     "text": [
      "100%|██████████████████████████████████████████████████████████| 80/80 [00:06<00:00, 12.88it/s]\n",
      "100%|███████████████████████████████████████████████████████| 640/640 [00:01<00:00, 375.32it/s]\n"
     ]
    },
    {
     "name": "stdout",
     "output_type": "stream",
     "text": [
      "Epoch [15/20], Loss: 0.7024, Val Loss: 0.7015, Val BER: 0.4983\n"
     ]
    },
    {
     "name": "stderr",
     "output_type": "stream",
     "text": [
      "100%|██████████████████████████████████████████████████████████| 80/80 [00:05<00:00, 13.60it/s]\n",
      "100%|███████████████████████████████████████████████████████| 640/640 [00:01<00:00, 387.65it/s]\n"
     ]
    },
    {
     "name": "stdout",
     "output_type": "stream",
     "text": [
      "Epoch [16/20], Loss: 0.7024, Val Loss: 0.7022, Val BER: 0.4981\n"
     ]
    },
    {
     "name": "stderr",
     "output_type": "stream",
     "text": [
      "100%|██████████████████████████████████████████████████████████| 80/80 [00:06<00:00, 13.07it/s]\n",
      "100%|███████████████████████████████████████████████████████| 640/640 [00:01<00:00, 388.72it/s]\n"
     ]
    },
    {
     "name": "stdout",
     "output_type": "stream",
     "text": [
      "Epoch [17/20], Loss: 0.7024, Val Loss: 0.7020, Val BER: 0.4983\n"
     ]
    },
    {
     "name": "stderr",
     "output_type": "stream",
     "text": [
      "100%|██████████████████████████████████████████████████████████| 80/80 [00:05<00:00, 13.53it/s]\n",
      "100%|███████████████████████████████████████████████████████| 640/640 [00:01<00:00, 385.33it/s]\n"
     ]
    },
    {
     "name": "stdout",
     "output_type": "stream",
     "text": [
      "Epoch [18/20], Loss: 0.7024, Val Loss: 0.7021, Val BER: 0.4982\n"
     ]
    },
    {
     "name": "stderr",
     "output_type": "stream",
     "text": [
      "100%|██████████████████████████████████████████████████████████| 80/80 [00:05<00:00, 13.60it/s]\n",
      "100%|███████████████████████████████████████████████████████| 640/640 [00:01<00:00, 372.38it/s]\n"
     ]
    },
    {
     "name": "stdout",
     "output_type": "stream",
     "text": [
      "Epoch [19/20], Loss: 0.7024, Val Loss: 0.7033, Val BER: 0.4983\n"
     ]
    },
    {
     "name": "stderr",
     "output_type": "stream",
     "text": [
      "100%|██████████████████████████████████████████████████████████| 80/80 [00:06<00:00, 12.97it/s]\n",
      "100%|███████████████████████████████████████████████████████| 640/640 [00:01<00:00, 366.11it/s]"
     ]
    },
    {
     "name": "stdout",
     "output_type": "stream",
     "text": [
      "Epoch [20/20], Loss: 0.7024, Val Loss: 0.7027, Val BER: 0.4983\n"
     ]
    },
    {
     "name": "stderr",
     "output_type": "stream",
     "text": [
      "\n"
     ]
    }
   ],
   "source": [
    "from tqdm.auto import tqdm\n",
    "# Training loop\n",
    "start_epoch = 0\n",
    "num_epochs =20\n",
    "for epoch in range(start_epoch, num_epochs):\n",
    "    total_loss = 0.0\n",
    "    model.train()  # Set the model to training mode\n",
    "\n",
    "    for index, data_batch in enumerate(tqdm(train_loader)):\n",
    "        batch = {k: v.to(device) for k, v in data_batch.items()}\n",
    "        samples = batch['samples']\n",
    "        labels = batch['labels']\n",
    "        outputs = model(samples)  # forward pass \n",
    "        labels = labels.view(32, 64, 256,4)\n",
    "        loss = loss_fn(outputs, labels) \n",
    "        loss.backward()  # backward pass\n",
    "        optimizer.step()  # update the weights\n",
    "        total_loss += loss.item()  # accumulate the loss\n",
    "        optimizer.zero_grad()  # Zero the gradients\n",
    "\n",
    "    # Print average loss for the epoch\n",
    "    average_loss = total_loss / len(train_loader)\n",
    "\n",
    "    # Validation\n",
    "    model.eval()  # Set the model to evaluation mode\n",
    "    BER_batch=[]\n",
    "    with torch.no_grad():\n",
    "        for index, data_batch in enumerate(tqdm(val_loader)):\n",
    "            batch = {k: v.to(device) for k, v in data_batch.items()}\n",
    "            samples = batch['samples']\n",
    "            labels = batch['labels']\n",
    "            labels = labels.view(1, 64, 256,4)\n",
    "\n",
    "            val_outputs = model(samples)\n",
    "            val_loss = loss_fn(val_outputs, labels)\n",
    "\n",
    "            # Convert probabilities to binary predictions (0 or 1)\n",
    "            binary_predictions = torch.round(val_outputs)\n",
    "\n",
    "            # Calculate Bit Error Rate (BER)\n",
    "            error_count = torch.sum(binary_predictions != labels).float()  # Count of unequal bits\n",
    "            error_rate = error_count / len(labels.flatten())  # Error rate calculation\n",
    "            BER_batch.append(error_rate.item())\n",
    "            \n",
    "    # Save performance details\n",
    "    train_losses.append(average_loss)\n",
    "    val_losses.append(val_loss.item())\n",
    "    BER_batch_mean=np.mean(BER_batch)\n",
    "    val_BERs.append(BER_batch_mean)#(BER.item())\n",
    "\n",
    "    # Print or log validation loss after each epoch\n",
    "    print(f\"Epoch [{epoch + 1}/{num_epochs}], Loss: {average_loss:.4f}, Val Loss: {val_loss:.4f}, Val BER: {BER_batch_mean:.4f}\")\n",
    "    \n"
   ]
  },
  {
   "cell_type": "code",
   "execution_count": 268,
   "metadata": {
    "pycharm": {
     "name": "#%%\n"
    }
   },
   "outputs": [],
   "source": [
    "# Save the final trained model\n",
    "checkpoint = {\n",
    "    'epoch': epoch,\n",
    "    'model_state_dict': model.state_dict(),\n",
    "}\n",
    "modelsave_path = os.path.join(trainoutput, 'simple_model.pth')\n",
    "torch.save(checkpoint, modelsave_path)"
   ]
  },
  {
   "cell_type": "code",
   "execution_count": null,
   "metadata": {
    "pycharm": {
     "name": "#%%\n"
    }
   },
   "outputs": [],
   "source": [
    "# Plot Training Loss and Validation Loss\n",
    "plt.figure(figsize=(7, 3))\n",
    "plt.plot(train_losses, label='Training Loss')\n",
    "plt.plot(val_losses, label='Validation Loss')\n",
    "plt.xlabel('Epochs')\n",
    "plt.ylabel('Loss')\n",
    "plt.legend()\n",
    "plt.title('Training and Validation Loss Over Epochs')\n",
    "plt.grid(True)"
   ]
  },
  {
   "cell_type": "code",
   "execution_count": null,
   "metadata": {
    "pycharm": {
     "name": "#%%\n"
    }
   },
   "outputs": [],
   "source": [
    "# Plot Validation BER\n",
    "plt.figure(figsize=(7, 3))\n",
    "plt.plot(val_BERs, label='Validation BER')\n",
    "plt.xlabel('Epochs')\n",
    "plt.ylabel('BER')\n",
    "plt.legend()\n",
    "plt.title('Bit Error Rate (BER) on validation set')\n",
    "plt.grid(True)"
   ]
  }
 ],
 "metadata": {
  "kernelspec": {
   "display_name": "Python 3 (ipykernel)",
   "language": "python",
   "name": "python3"
  }
 },
 "nbformat": 4,
 "nbformat_minor": 4
}
